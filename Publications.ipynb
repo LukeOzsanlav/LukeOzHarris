{
  "cells": [
    {
      "cell_type": "raw",
      "metadata": {},
      "source": [
        "---\n",
        "title: \"Publications\"\n",
        "bibliography: references.bib\n",
        "csl: apa-cv.csl\n",
        "suppress-bibliography: true\n",
        "link-citations: false\n",
        "citations-hover: false\n",
        "---"
      ],
      "id": "6dfbd215"
    },
    {
      "cell_type": "markdown",
      "metadata": {},
      "source": [
        "## 2023\n",
        "\n",
        "***preprint:*** [@ozsanlav-harris2023a]\n",
        "\n",
        "***preprint:*** [@ozsanlav-harris2023]\n",
        "\n",
        "***preprint:*** [@langley2023]\n",
        "\n",
        "[@mcintosh2023]\n",
        "\n",
        "[@trissi2023]\n",
        "\n",
        "## 2022\n",
        "\n",
        "[@ozsanlav-harris2022]\n"
      ],
      "id": "d0909e20"
    },
    {
      "cell_type": "code",
      "metadata": {},
      "source": [
        "#| label: software\n",
        "#| output: asis\n",
        "import yaml\n",
        "from IPython.display import display, Markdown, HTML\n",
        "\n",
        "\n",
        "        buttons.append(button(data['github'], \"Github\", \"bi-github\"))"
      ],
      "id": "software",
      "execution_count": null,
      "outputs": []
    }
  ],
  "metadata": {
    "kernelspec": {
      "name": "python3",
      "language": "python",
      "display_name": "Python 3 (ipykernel)"
    }
  },
  "nbformat": 4,
  "nbformat_minor": 5
}